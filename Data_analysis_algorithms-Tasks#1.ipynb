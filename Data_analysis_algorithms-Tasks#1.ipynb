{
 "cells": [
  {
   "cell_type": "markdown",
   "id": "5dd99df5",
   "metadata": {},
   "source": [
    "### Используя файл Lesson_1_extended.ipynb (он в web1.zip в материалах):\n",
    "\n",
    "### 1. Подберите скорость обучения и количество итераций"
   ]
  },
  {
   "cell_type": "markdown",
   "id": "9ec26915",
   "metadata": {},
   "source": [
    "__Задача:__ предсказание баллов ЕГЭ ученика в зависимости от кол-ва лет стажа его репетитора"
   ]
  },
  {
   "cell_type": "code",
   "execution_count": 1,
   "id": "775d2fb4",
   "metadata": {},
   "outputs": [],
   "source": [
    "import numpy as np\n",
    "import warnings\n",
    "warnings.filterwarnings('ignore')"
   ]
  },
  {
   "cell_type": "code",
   "execution_count": 2,
   "id": "7ece633e",
   "metadata": {},
   "outputs": [],
   "source": [
    "X = np.array([[ 1,  1],\n",
    "              [ 1,  1],\n",
    "              [ 1,  2],\n",
    "              [ 1,  5],\n",
    "              [ 1,  3],\n",
    "              [ 1,  0],\n",
    "              [ 1,  5],\n",
    "              [ 1, 10],\n",
    "              [ 1,  1],\n",
    "              [ 1,  2]])"
   ]
  },
  {
   "cell_type": "code",
   "execution_count": 3,
   "id": "19be2a23",
   "metadata": {},
   "outputs": [
    {
     "data": {
      "text/plain": [
       "(10, 2)"
      ]
     },
     "execution_count": 3,
     "metadata": {},
     "output_type": "execute_result"
    }
   ],
   "source": [
    "X.shape"
   ]
  },
  {
   "cell_type": "code",
   "execution_count": 4,
   "id": "8f0b2ec3",
   "metadata": {},
   "outputs": [],
   "source": [
    "y = [45, 55, 50, 55, 60, 35, 75, 80, 50, 60]"
   ]
  },
  {
   "cell_type": "code",
   "execution_count": 5,
   "id": "3b3d03ea",
   "metadata": {},
   "outputs": [],
   "source": [
    "def calc_mse(y, y_pred):\n",
    "    err = np.mean((y - y_pred)**2)\n",
    "    return err"
   ]
  },
  {
   "cell_type": "markdown",
   "id": "17f2d7da",
   "metadata": {},
   "source": [
    "Подбор в ручную"
   ]
  },
  {
   "cell_type": "code",
   "execution_count": 24,
   "id": "56835a0b",
   "metadata": {},
   "outputs": [
    {
     "name": "stdout",
     "output_type": "stream",
     "text": [
      "Number of objects = 10        \n",
      "Learning rate = 0.1        \n",
      "Initial weights = [1.  0.5] \n",
      "\n",
      "eta:0.09090909090909091\n",
      "\n",
      "Iteration #0: W_new = [11.8 38.2], MSE = 3047.75\n",
      "eta:0.08264462809917356\n",
      "\n",
      "Iteration #10: W_new = [12651.73553914 69617.0969639 ], MSE = 18310954068.05\n",
      "eta:0.07513148009015777\n",
      "\n",
      "Iteration #20: W_new = [ 7732434.81888022 42641607.3785219 ], MSE = 9128819654907584.0\n",
      "eta:0.06830134553650706\n",
      "\n",
      "Iteration #30: W_new = [1.06344502e+09 5.86454589e+09], MSE = 2.327920364266852e+20\n",
      "eta:0.0620921323059155\n",
      "\n",
      "Iteration #40: W_new = [3.00127077e+10 1.65510116e+11], MSE = 2.545133529815946e+23\n",
      "eta:0.056447393005377725\n",
      "\n",
      "Iteration #50: W_new = [1.55345341e+11 8.56677968e+11], MSE = 9.572295620500115e+24\n",
      "eta:0.051315811823070656\n",
      "\n",
      "Iteration #60: W_new = [1.27742291e+11 7.04456313e+11], MSE = 9.35148012647598e+24\n",
      "eta:0.04665073802097332\n",
      "\n",
      "Iteration #70: W_new = [1.38141953e+10 7.61806995e+10], MSE = 1.6408589528283862e+23\n",
      "eta:0.04240976183724847\n",
      "\n",
      "Iteration #80: W_new = [1.51674189e+08 8.36432543e+08], MSE = 3.1255335378744607e+19\n",
      "eta:0.03855432894295315\n",
      "\n",
      "Iteration #90: W_new = [116395.49982335 641638.79865344], MSE = 31317286806394.33\n",
      "eta:0.03504938994813923\n",
      "\n",
      "Iteration #100: W_new = [48.41962396 22.99884644], MSE = 53518.86\n",
      "eta:0.03186308177103566\n",
      "\n",
      "Iteration #110: W_new = [44.97713118  3.82798845], MSE = 43.97\n"
     ]
    }
   ],
   "source": [
    "n = X.shape[0]\n",
    "\n",
    "eta = 0.1\n",
    "n_iter = 120\n",
    "\n",
    "W = np.array([1, 0.5])\n",
    "print(f'Number of objects = {n} \\\n",
    "       \\nLearning rate = {eta} \\\n",
    "       \\nInitial weights = {W} \\n')\n",
    "\n",
    "for i in range(n_iter):\n",
    "    y_pred = np.dot(X, W)\n",
    "    err = calc_mse(y, y_pred)\n",
    "    for k in range(W.shape[0]):\n",
    "        W[k] -= eta * (1/n * 2 * X[:, k] @ (y_pred - y))\n",
    "    if i % 10 == 0:\n",
    "        eta /= 1.1\n",
    "        print(f'eta:{eta}\\n')\n",
    "        print(f'Iteration #{i}: W_new = {W}, MSE = {round(err, 2)}')"
   ]
  },
  {
   "cell_type": "markdown",
   "id": "3c946fb8",
   "metadata": {},
   "source": [
    "### *В коде есть ошибка, исправьте ее."
   ]
  },
  {
   "cell_type": "code",
   "execution_count": 25,
   "id": "91ca0d45",
   "metadata": {},
   "outputs": [
    {
     "data": {
      "text/plain": [
       "((2, 10), 10)"
      ]
     },
     "execution_count": 25,
     "metadata": {},
     "output_type": "execute_result"
    }
   ],
   "source": [
    "(X.T).shape, len(y)"
   ]
  },
  {
   "cell_type": "code",
   "execution_count": 26,
   "id": "5b4683df",
   "metadata": {},
   "outputs": [
    {
     "name": "stdout",
     "output_type": "stream",
     "text": [
      "Number of objects = 10        \n",
      "Learning rate = 0.01        \n",
      "Initial weights = [1.  0.5] \n",
      "\n",
      "Iteration #0: W_new = [2.08 4.27], MSE = 3047.75\n",
      "Iteration #100: W_new = [28.38281518  6.83710367], MSE = 177.43\n",
      "Iteration #200: W_new = [38.38986469  5.02247953], MSE = 65.33\n",
      "Iteration #300: W_new = [42.39314129  4.29654705], MSE = 47.39\n",
      "Iteration #400: W_new = [43.99463466  4.00614091], MSE = 44.52\n",
      "Iteration #500: W_new = [44.63530512  3.8899652 ], MSE = 44.06\n",
      "Iteration #600: W_new = [44.89160255  3.84348962], MSE = 43.98\n"
     ]
    }
   ],
   "source": [
    "n = X.shape[0]\n",
    "\n",
    "eta = 1e-2\n",
    "n_iter = 700\n",
    "\n",
    "W = np.array([1, 0.5])\n",
    "print(f'Number of objects = {n} \\\n",
    "       \\nLearning rate = {eta} \\\n",
    "       \\nInitial weights = {W} \\n')\n",
    "\n",
    "for i in range(n_iter):\n",
    "    y_pred = np.dot(X, W)\n",
    "    err = calc_mse(y, y_pred)\n",
    "#     for k in range(W.shape[0]):\n",
    "#         W[k] -= eta * (1/n * 2 * X[:, k] @ (y_pred - y))\n",
    "\n",
    "    # ИЗМЕНЕНИЯ\n",
    "#     print(X.shape, (y_pred - y).shape)\n",
    "#     print(W.shape)\n",
    "    W -= eta * (1/n * 2 * np.dot(X.T, y_pred - y))\n",
    "    #\n",
    "    if i % 100 == 0:\n",
    "        print(f'Iteration #{i}: W_new = {W}, MSE = {round(err,2)}')"
   ]
  },
  {
   "cell_type": "markdown",
   "id": "1130c540",
   "metadata": {},
   "source": [
    "### *Вместо того, чтобы задавать количество итераций, задайте другое условие останова алгоритма - когда веса перестают изменяться меньше определенного порога эпсилон."
   ]
  },
  {
   "cell_type": "markdown",
   "id": "98ea4700",
   "metadata": {},
   "source": [
    "L1, L2"
   ]
  },
  {
   "cell_type": "code",
   "execution_count": 27,
   "id": "9f8f4a3a",
   "metadata": {},
   "outputs": [
    {
     "data": {
      "text/plain": [
       "4.237924020083418"
      ]
     },
     "execution_count": 27,
     "metadata": {},
     "output_type": "execute_result"
    }
   ],
   "source": [
    "weights0 = np.array([1, 0.5])\n",
    "weights1 = np.array([5, 1.9])\n",
    "np.linalg.norm(weights0 - weights1, ord=2)"
   ]
  },
  {
   "cell_type": "code",
   "execution_count": 28,
   "id": "bc9e466a",
   "metadata": {},
   "outputs": [],
   "source": [
    "import matplotlib.pyplot as plt\n",
    "\n",
    "def plot_vectors(a, b):\n",
    "    fig, ax = plt.subplots(figsize=(8, 5))\n",
    "    ax.plot([a[0]], [a[1]], '*')\n",
    "    ax.plot([b[0]], [b[1]], '+')\n",
    "    ax.set_xlabel('intercept')\n",
    "    ax.set_ylabel('w1')\n",
    "    return ax"
   ]
  },
  {
   "cell_type": "code",
   "execution_count": 29,
   "id": "7c999ac6",
   "metadata": {},
   "outputs": [
    {
     "data": {
      "image/png": "[encoded data removed]",
      "text/plain": [
       "<Figure size 576x360 with 1 Axes>"
      ]
     },
     "metadata": {
      "needs_background": "light"
     },
     "output_type": "display_data"
    }
   ],
   "source": [
    "ax = plot_vectors(weights0, weights1)\n",
    "ax.plot([weights0[0], weights1[0]], [weights0[1], weights1[1]]);"
   ]
  },
  {
   "cell_type": "code",
   "execution_count": 30,
   "id": "1222f78c",
   "metadata": {},
   "outputs": [
    {
     "data": {
      "text/plain": [
       "4.237924020083418"
      ]
     },
     "execution_count": 30,
     "metadata": {},
     "output_type": "execute_result"
    }
   ],
   "source": [
    "# Теорема Пифагора\n",
    "((5-1)**2 + (1.9-0.5)**2)**0.5"
   ]
  },
  {
   "cell_type": "code",
   "execution_count": 31,
   "id": "9399291f",
   "metadata": {},
   "outputs": [
    {
     "data": {
      "image/png": "[encoded data removed]",
      "text/plain": [
       "<Figure size 576x360 with 1 Axes>"
      ]
     },
     "metadata": {
      "needs_background": "light"
     },
     "output_type": "display_data"
    }
   ],
   "source": [
    "ax = plot_vectors(weights0, weights1)\n",
    "ax.plot([weights0[0], weights1[0]], [weights0[1], weights0[1]], c='r')\n",
    "ax.plot([weights1[0], weights1[0]], [weights0[1], weights1[1]], c='r');"
   ]
  },
  {
   "cell_type": "code",
   "execution_count": 32,
   "id": "3dbdf785",
   "metadata": {},
   "outputs": [
    {
     "data": {
      "text/plain": [
       "5.4"
      ]
     },
     "execution_count": 32,
     "metadata": {},
     "output_type": "execute_result"
    }
   ],
   "source": [
    "np.linalg.norm(weights0 - weights1, ord=1)"
   ]
  },
  {
   "cell_type": "code",
   "execution_count": 33,
   "id": "6e3a99c1",
   "metadata": {},
   "outputs": [
    {
     "data": {
      "text/plain": [
       "5.4"
      ]
     },
     "execution_count": 33,
     "metadata": {},
     "output_type": "execute_result"
    }
   ],
   "source": [
    "abs(5-1) + abs(1.9-0.5)"
   ]
  },
  {
   "cell_type": "code",
   "execution_count": 43,
   "id": "ae1e8707",
   "metadata": {},
   "outputs": [
    {
     "name": "stdout",
     "output_type": "stream",
     "text": [
      "Number of objects = 10        \n",
      "Learning rate = 0.01        \n",
      "Initial weights = [1.  0.5] \n",
      "\n",
      "Iteration #0: W_new = [2.08 4.27], MSE = 3047.75\n",
      "Iteration #10: W_new = [ 7.0011236 10.6169007], MSE = 738.65\n",
      "Iteration #20: W_new = [10.3486292  10.10603105], MSE = 622.03\n",
      "Iteration #30: W_new = [13.38789582  9.55618391], MSE = 525.24\n",
      "Iteration #40: W_new = [16.16088505  9.05336203], MSE = 444.66\n",
      "Iteration #50: W_new = [18.69110735  8.59454545], MSE = 377.58\n",
      "Iteration #60: W_new = [20.99981865  8.17589626], MSE = 321.72\n",
      "Iteration #70: W_new = [23.10641138  7.79389815], MSE = 275.22\n",
      "Iteration #80: W_new = [25.02858024  7.44534246], MSE = 236.5\n",
      "Iteration #90: W_new = [26.78247081  7.12730145], MSE = 204.27\n",
      "Iteration #100: W_new = [28.38281518  6.83710367], MSE = 177.43\n",
      "Iteration #110: W_new = [29.84305573  6.57231156], MSE = 155.08\n",
      "Iteration #120: W_new = [31.17545797  6.33070096], MSE = 136.48\n",
      "Iteration #130: W_new = [32.39121367  6.11024241], MSE = 120.99\n",
      "Iteration #140: W_new = [33.50053475  5.90908413], MSE = 108.09\n",
      "Iteration #150: W_new = [34.51273915  5.72553647], MSE = 97.36\n",
      "Iteration #160: W_new = [35.43632906  5.55805768], MSE = 88.42\n",
      "Iteration #170: W_new = [36.27906231  5.405241  ], MSE = 80.98\n",
      "Iteration #180: W_new = [37.0480176   5.26580281], MSE = 74.78\n",
      "Iteration #190: W_new = [37.74965389  5.13857189], MSE = 69.62\n",
      "Iteration #200: W_new = [38.38986469  5.02247953], MSE = 65.33\n",
      "Iteration #210: W_new = [38.97402756  4.9165506 ], MSE = 61.75\n",
      "Iteration #220: W_new = [39.50704928  4.81989533], MSE = 58.77\n",
      "Iteration #230: W_new = [39.99340705  4.73170185], MSE = 56.29\n",
      "Iteration #240: W_new = [40.43718613  4.65122936], MSE = 54.23\n",
      "Iteration #250: W_new = [40.84211409  4.57780191], MSE = 52.51\n",
      "Iteration #260: W_new = [41.21159221  4.51080275], MSE = 51.08\n",
      "Iteration #270: W_new = [41.54872398  4.4496691 ], MSE = 49.89\n",
      "Iteration #280: W_new = [41.8563412   4.39388747], MSE = 48.9\n",
      "Iteration #290: W_new = [42.13702774  4.34298929], MSE = 48.07\n",
      "Iteration #300: W_new = [42.39314129  4.29654705], MSE = 47.39\n",
      "Iteration #310: W_new = [42.6268331   4.25417064], MSE = 46.81\n",
      "Iteration #320: W_new = [42.84006612  4.21550412], MSE = 46.34\n",
      "Iteration #330: W_new = [43.03463143  4.1802227 ], MSE = 45.94\n",
      "Iteration #340: W_new = [43.21216332  4.14803003], MSE = 45.61\n",
      "Iteration #350: W_new = [43.37415299  4.1186557 ], MSE = 45.34\n",
      "Iteration #360: W_new = [43.5219611   4.09185298], MSE = 45.11\n",
      "Iteration #370: W_new = [43.6568292   4.06739673], MSE = 44.92\n",
      "Iteration #380: W_new = [43.77989013  4.04508153], MSE = 44.76\n",
      "Iteration #390: W_new = [43.89217756  4.02471993], MSE = 44.63\n",
      "Iteration #400: W_new = [43.99463466  4.00614091], MSE = 44.52\n"
     ]
    }
   ],
   "source": [
    "n = X.shape[0]\n",
    "\n",
    "eta = 1e-2\n",
    "epsilon = 1e-2\n",
    "iter_num = 0\n",
    "\n",
    "W = np.array([1, 0.5])\n",
    "print(f'Number of objects = {n} \\\n",
    "       \\nLearning rate = {eta} \\\n",
    "       \\nInitial weights = {W} \\n')\n",
    "weight_dist = np.inf\n",
    "\n",
    "while weight_dist > epsilon:\n",
    "    y_pred = np.dot(X, W)\n",
    "    err = calc_mse(y, y_pred)\n",
    "\n",
    "    W_new = W - eta * (1/n * 2 * np.dot(X.T, y_pred - y))\n",
    "    weight_dist = np.linalg.norm(W_new - W, ord=2)\n",
    "    W = W_new.copy()\n",
    "    \n",
    "    if iter_num % 10 == 0:\n",
    "        print(f'Iteration #{iter_num}: W_new = {W}, MSE = {round(err,2)}')\n",
    "    iter_num += 1"
   ]
  }
 ],
 "metadata": {
  "kernelspec": {
   "display_name": "Python 3 (ipykernel)",
   "language": "python",
   "name": "python3"
  },
  "language_info": {
   "codemirror_mode": {
    "name": "ipython",
    "version": 3
   },
   "file_extension": ".py",
   "mimetype": "text/x-python",
   "name": "python",
   "nbconvert_exporter": "python",
   "pygments_lexer": "ipython3",
   "version": "3.10.4"
  }
 },
 "nbformat": 4,
 "nbformat_minor": 5
}
